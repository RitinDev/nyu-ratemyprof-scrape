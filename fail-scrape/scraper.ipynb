{
 "cells": [
  {
   "cell_type": "code",
   "execution_count": null,
   "metadata": {},
   "outputs": [],
   "source": [
    "\n",
    "from selenium import webdriver\n",
    "from selenium.webdriver.chrome.service import Service\n",
    "from webdriver_manager.chrome import ChromeDriverManager\n",
    "from selenium.webdriver.common.by import By\n",
    "from selenium.webdriver.support.ui import WebDriverWait\n",
    "from selenium.webdriver.support import expected_conditions as EC\n",
    "import pandas as pd\n",
    "import time"
   ]
  },
  {
   "cell_type": "markdown",
   "metadata": {},
   "source": [
    "### NOTE: The following code is too resource intensive to run on my local machine. As such, I have utilized another method to retrieve the data."
   ]
  },
  {
   "cell_type": "code",
   "execution_count": null,
   "metadata": {},
   "outputs": [],
   "source": [
    "# Set up Chrome WebDriver\n",
    "options = webdriver.ChromeOptions()\n",
    "options.add_argument('--headless')\n",
    "options.add_argument('--no-sandbox')\n",
    "options.add_argument('--disable-dev-shm-usage')\n",
    "options.add_argument(\"user-agent=Mozilla/5.0 (Windows NT 10.0; Win64; x64) AppleWebKit/537.36 (KHTML, like Gecko) Chrome/58.0.3029.110 Safari/537.36\")\n",
    "driver = webdriver.Chrome(service=Service(ChromeDriverManager().install()), options=options)\n",
    "\n",
    "# URL to scrape\n",
    "url = 'https://www.ratemyprofessors.com/search/professors/675?q=*'\n",
    "\n",
    "# Open the URL\n",
    "driver.get(url)\n",
    "\n",
    "print(\"Opened the URL:\", url)\n",
    "\n",
    "# Handle the cookie banner\n",
    "try:\n",
    "    WebDriverWait(driver, 10).until(\n",
    "        EC.element_to_be_clickable((By.CSS_SELECTOR, \"button[class*='Buttons__Button'][class*='CCPAModal__StyledCloseButton']\"))\n",
    "    ).click()\n",
    "except Exception as e:\n",
    "    print(\"Failed to close cookie banner:\", str(e))\n",
    "    \n",
    "actions = webdriver.ActionChains(driver)\n",
    "\n",
    "# Click the \"Show More\" button until it no longer appears\n",
    "retries = 5\n",
    "clicked = 1200  # Number of times to click 'Show More'\n",
    "while retries > 0 and clicked > 0:\n",
    "    try:\n",
    "        show_more_button = WebDriverWait(driver, 10).until(\n",
    "            EC.element_to_be_clickable((By.CSS_SELECTOR, \"button[class*='Buttons__Button'][class*='PaginationButton__StyledPaginationButton']\"))\n",
    "        )\n",
    "        # actions.move_to_element(driver.find_element(By.CSS_SELECTOR, \"button[class*='Buttons__Button'][class*='PaginationButton__StyledPaginationButton']\")).click().perform()\n",
    "        actions.move_to_element(show_more_button).click().perform()\n",
    "        # print(\"Clicked 'Show More'\", clicked, \"times...\")\n",
    "        time.sleep(1)  # Wait for the content to load\n",
    "        retries = 5  # Reset retries after a successful click\n",
    "        clicked -= 1\n",
    "    except Exception as e:\n",
    "        print(\"Retry clicking 'Show More'...\")\n",
    "        time.sleep(1)\n",
    "        retries -= 1\n",
    "        if retries == 0:\n",
    "            print(\"Final attempt failed. Proceeding with data extraction.\")\n",
    "            break\n",
    "\n",
    "# Scrape the data\n",
    "data = []\n",
    "professor_cards = driver.find_elements(By.CSS_SELECTOR, \"a[class*='TeacherCard__StyledTeacherCard']\")\n",
    "for card in professor_cards:\n",
    "    name = card.find_elements(By.CSS_SELECTOR, \"div[class*='CardName__StyledCardName']\")[0].text.strip()\n",
    "    rating = card.find_elements(By.CSS_SELECTOR, \"div[class*='CardNumRating__CardNumRatingNumber']\")[0].text.strip()\n",
    "    department = card.find_elements(By.CSS_SELECTOR, \"div[class*='CardSchool__Department']\")[0].text.strip()\n",
    "    difficulty = card.find_elements(By.CSS_SELECTOR, \"div[class*='CardFeedback__CardFeedbackNumber']\")[1].text.strip()\n",
    "    num_ratings = card.find_elements(By.CSS_SELECTOR, \"div[class*='CardNumRating__CardNumRatingCount']\")[0].text.strip()\n",
    "\n",
    "    data.append({\n",
    "        \"Professor Name\": name,\n",
    "        \"Professor Rating\": rating,\n",
    "        \"Professor Department\": department,\n",
    "        \"Difficulty\": difficulty,\n",
    "        \"Number of Ratings\": num_ratings\n",
    "    })\n",
    "\n",
    "# Convert data to DataFrame\n",
    "df = pd.DataFrame(data)\n",
    "\n",
    "# Close the browser\n",
    "driver.quit()\n",
    "\n",
    "# Print the DataFrame\n",
    "df"
   ]
  },
  {
   "cell_type": "code",
   "execution_count": null,
   "metadata": {},
   "outputs": [],
   "source": [
    "# Get only rows with unique professor names\n",
    "df.drop_duplicates(subset=\"Professor Name\", keep=\"first\", inplace=True)"
   ]
  },
  {
   "cell_type": "code",
   "execution_count": null,
   "metadata": {},
   "outputs": [],
   "source": [
    "# Give appropriate data types to the columns\n",
    "df['Professor Rating'] = df['Professor Rating'].astype(float)\n",
    "df['Difficulty'] = df['Difficulty'].astype(float)\n",
    "df['Professor Name'] = df['Professor Name'].str.title()\n",
    "df['Professor Department'] = df['Professor Department'].str.title()"
   ]
  },
  {
   "cell_type": "code",
   "execution_count": null,
   "metadata": {},
   "outputs": [],
   "source": [
    "# Get mean rating by department\n",
    "mean_rating_by_department = df.groupby('Professor Department')['Professor Rating'].mean().reset_index()\n",
    "mean_rating_by_department = mean_rating_by_department.sort_values(by='Professor Rating', ascending=False)\n",
    "mean_rating_by_department"
   ]
  },
  {
   "cell_type": "code",
   "execution_count": null,
   "metadata": {},
   "outputs": [],
   "source": [
    "# Get mean difficulty by department\n",
    "mean_difficulty_by_department = df.groupby('Professor Department')['Difficulty'].mean().reset_index()\n",
    "mean_difficulty_by_department = mean_difficulty_by_department.sort_values(by='Difficulty', ascending=False)\n",
    "mean_difficulty_by_department"
   ]
  },
  {
   "cell_type": "code",
   "execution_count": null,
   "metadata": {},
   "outputs": [],
   "source": [
    "# create matrix of mean rating and difficulty by department\n",
    "mean_rating_difficulty_by_department = mean_rating_by_department.merge(mean_difficulty_by_department, on='Professor Department')\n",
    "mean_rating_difficulty_by_department"
   ]
  }
 ],
 "metadata": {
  "kernelspec": {
   "display_name": "Python 3",
   "language": "python",
   "name": "python3"
  },
  "language_info": {
   "codemirror_mode": {
    "name": "ipython",
    "version": 3
   },
   "file_extension": ".py",
   "mimetype": "text/x-python",
   "name": "python",
   "nbconvert_exporter": "python",
   "pygments_lexer": "ipython3",
   "version": "3.11.0"
  }
 },
 "nbformat": 4,
 "nbformat_minor": 2
}
